{
  "cells": [
    {
      "cell_type": "markdown",
      "source": [
        "# Installing PyDrive"
      ],
      "metadata": {
        "id": "fnuU84Wd2Hu0"
      },
      "id": "fnuU84Wd2Hu0"
    },
    {
      "cell_type": "code",
      "source": [
        "# Authenticate and create the PyDrive client.\n",
        "!pip install -U -q PyDrive\n",
        "import os\n",
        "from pydrive.auth import GoogleAuth\n",
        "from pydrive.drive import GoogleDrive\n",
        "from google.colab import auth\n",
        "from oauth2client.client import GoogleCredentials\n",
        "auth.authenticate_user()\n",
        "gauth = GoogleAuth()\n",
        "gauth.credentials = GoogleCredentials.get_application_default()\n",
        "drive = GoogleDrive(gauth)"
      ],
      "metadata": {
        "id": "GuaiCWKAq_D9"
      },
      "id": "GuaiCWKAq_D9",
      "execution_count": null,
      "outputs": []
    },
    {
      "cell_type": "markdown",
      "id": "employed-activation",
      "metadata": {
        "id": "employed-activation"
      },
      "source": [
        "# Load Data"
      ]
    },
    {
      "cell_type": "markdown",
      "source": [
        "Keras Datasets"
      ],
      "metadata": {
        "id": "7Z61865uyJHe"
      },
      "id": "7Z61865uyJHe"
    },
    {
      "cell_type": "code",
      "execution_count": null,
      "id": "conservative-biology",
      "metadata": {
        "id": "conservative-biology"
      },
      "outputs": [],
      "source": [
        "from keras.datasets import mnist\n",
        "(x_train, y_train), (x_test, y_test) = mnist.load_data()\n",
        "\n",
        "from keras.datasets import cifar10\n",
        "(x_train, y_train), (x_test, y_test) = cifar10.load_data()"
      ]
    },
    {
      "cell_type": "markdown",
      "source": [
        "Mounting Drive"
      ],
      "metadata": {
        "id": "WcV8sl3jyRHV"
      },
      "id": "WcV8sl3jyRHV"
    },
    {
      "cell_type": "code",
      "source": [
        "from google.colab import drive\n",
        "import pandas as pd\n",
        "import zipfile\n",
        "\n",
        "# Mounting drive, unzip, and read csv\n",
        "drive.mount('/content/drive')\n",
        "%cd \"/content/drive/My Drive/Colab Notebooks/YOLOv6-main\"\n",
        "!pip install -r \"requirements.txt\"\n",
        "zip_ref = zipfile.ZipFile('_.zip','r') ; zip_ref.extractall ('./_'); zip_ref.close()\n",
        "df = pd.read_csv('_.csv','r')"
      ],
      "metadata": {
        "id": "3WDtzHgbyXrd"
      },
      "id": "3WDtzHgbyXrd",
      "execution_count": null,
      "outputs": []
    },
    {
      "cell_type": "markdown",
      "source": [
        "From Github"
      ],
      "metadata": {
        "id": "FwQiFUcVygdQ"
      },
      "id": "FwQiFUcVygdQ"
    },
    {
      "cell_type": "code",
      "source": [
        "# From a GitHub repository\n",
        "dataset = pd.read_csv(\"https://raw.githubusercontent.com/hadiforoughi/DataSets/main/houses.csv\")\n",
        "dataset.info()"
      ],
      "metadata": {
        "id": "otju_GDHyg5n"
      },
      "id": "otju_GDHyg5n",
      "execution_count": null,
      "outputs": []
    },
    {
      "cell_type": "markdown",
      "source": [
        "Upload to Drive"
      ],
      "metadata": {
        "id": "FireZAcUnh9z"
      },
      "id": "FireZAcUnh9z"
    },
    {
      "cell_type": "code",
      "source": [
        "# Uploading files to drive\n",
        "from google.colab import files\n",
        "files.upload()"
      ],
      "metadata": {
        "id": "cdcUl2zqnXnl"
      },
      "execution_count": null,
      "outputs": [],
      "id": "cdcUl2zqnXnl"
    },
    {
      "cell_type": "markdown",
      "source": [
        "Download from Drive"
      ],
      "metadata": {
        "id": "LOt-G755y2uo"
      },
      "id": "LOt-G755y2uo"
    },
    {
      "cell_type": "code",
      "source": [
        "from google.colab import files\n",
        "!zip -r /content/SavedModel/SavedModel.zip /content/SavedModel\n",
        "files.download('/content/SavedModel/SavedModel.zip')"
      ],
      "metadata": {
        "id": "TwTOmAjQy8ne"
      },
      "id": "TwTOmAjQy8ne",
      "execution_count": null,
      "outputs": []
    },
    {
      "cell_type": "markdown",
      "source": [
        "From Kaggle"
      ],
      "metadata": {
        "id": "O1krlxA1zN8R"
      },
      "id": "O1krlxA1zN8R"
    },
    {
      "cell_type": "code",
      "source": [
        "# https://www.analyticsvidhya.com/blog/2021/06/how-to-load-kaggle-datasets-directly-into-google-colab/\n",
        "\n",
        "# Create the authentication API (kaggle.json) of your profile and upload it to Drive\n",
        "from google.colab import files ; files.upload()\n",
        "# Install the Kaggle library\n",
        "! pip install -q kaggle\n",
        "# Make a directory named “.kaggle”\n",
        "! mkdir ~/.kaggle\n",
        "# 1. Copy the “kaggle.json” into this new directory\n",
        "! cp kaggle.json ~/.kaggle/\n",
        "# 2. Copy from mounted Drive\n",
        "! cp /content/drive/MyDrive/kaggle.json ~/.kaggle/kaggle.json\n",
        "# Allocate the required permission for this file.\n",
        "! chmod 600 ~/.kaggle/kaggle.json\n",
        "# See the list of datasets\n",
        "! kaggle datasets list\n",
        "# 1. Download competitions dataset:\n",
        "! kaggle competitions download <name-of-competition>\n",
        "# 2. Download datasets\n",
        "! kaggle datasets download -d ssarkar445/covid-19-xray-and-ct-scan-image-dataset\n",
        "# Unzip dataset\n",
        "! unzip covid-19-xray-and-ct-scan-image-dataset.zip -d dataset"
      ],
      "metadata": {
        "id": "y8UNdsfCzt5C"
      },
      "id": "y8UNdsfCzt5C",
      "execution_count": null,
      "outputs": []
    },
    {
      "cell_type": "markdown",
      "source": [
        "# Load and Save Model"
      ],
      "metadata": {
        "id": "WZczkc9Z7juu"
      },
      "id": "WZczkc9Z7juu"
    },
    {
      "cell_type": "code",
      "source": [
        "!pip install pyyaml h5py\n",
        "from keras.models import load_model\n",
        "\n",
        "# Loading the whole model\n",
        "model = load_model('./SavedModel/C01_MLP.h5')\n",
        "# Loading the pre-trained weights\n",
        "model.load_weights('./SavedModel/C01_MLP_Checkpoint')\n",
        "\n",
        "# Saving the whole model\n",
        "model.save('./SavedModel/C01_MLP.h5')\n",
        "# Saving the trained weights\n",
        "model.save_weights('./SavedModel/C01_MLP_Checkpoint')"
      ],
      "metadata": {
        "id": "GEIj5tP-7pQe"
      },
      "id": "GEIj5tP-7pQe",
      "execution_count": null,
      "outputs": []
    },
    {
      "cell_type": "markdown",
      "id": "urban-discovery",
      "metadata": {
        "id": "urban-discovery"
      },
      "source": [
        "# Preprocess (Mnist Dataset)"
      ]
    },
    {
      "cell_type": "code",
      "execution_count": null,
      "id": "nervous-physics",
      "metadata": {
        "id": "nervous-physics",
        "outputId": "bcb29dfc-32bb-4c90-fedf-1ec0e3062e4e",
        "colab": {
          "base_uri": "https://localhost:8080/",
          "height": 405
        }
      },
      "outputs": [
        {
          "output_type": "stream",
          "name": "stdout",
          "text": [
            "Training data shape :  (60000, 28, 28) (60000,)\n",
            "Testing data shape :  (10000, 28, 28) (10000,)\n",
            "Total number of outputs :  10\n",
            "Output classes :  [0 1 2 3 4 5 6 7 8 9] \n",
            "\n"
          ]
        },
        {
          "output_type": "display_data",
          "data": {
            "text/plain": [
              "<Figure size 720x360 with 2 Axes>"
            ],
            "image/png": "[encoded data removed]"
          },
          "metadata": {
            "needs_background": "light"
          }
        }
      ],
      "source": [
        "# Checkout the Data\n",
        "print('Training data shape : ', x_train.shape, y_train.shape)\n",
        "print('Testing data shape : ', x_test.shape, y_test.shape)\n",
        " \n",
        "# Find the unique numbers from the train labels\n",
        "import numpy as np\n",
        "classes = np.unique(y_train)\n",
        "nClasses = len(classes)\n",
        "print('Total number of outputs : ', nClasses)\n",
        "print('Output classes : ', classes,'\\n')\n",
        " \n",
        "# Display the first image in training and testing data\n",
        "import matplotlib.pyplot as plt\n",
        "plt.figure(figsize=[10,5])\n",
        "plt.subplot(121)\n",
        "plt.imshow(x_train[0,:,:], cmap='gray')\n",
        "plt.title(\"Ground Truth : {}\".format(y_train[0]))\n",
        "plt.subplot(122)\n",
        "plt.imshow(x_test[0,:,:], cmap='binary')\n",
        "plt.title(\"Ground Truth : {}\".format(y_test[0]))\n",
        "\n",
        "# Flattening the data: Change from matrix of dimension 28x28 to array of dimention 784\n",
        "X_train = x_train.reshape((len(x_train), np.prod(x_train.shape[1:]))) #(60000, 784)\n",
        "X_test = x_test.reshape((len(x_test), np.prod(x_test.shape[1:])))     #(10000, 784)\n",
        "\n",
        "# Change to float datatype\n",
        "X_train = X_train.astype('float32')\n",
        "X_test = X_test.astype('float32')\n",
        "\n",
        "# Noramlization from [0;255] to [0;1], Scale the data to lie between 0 to 1\n",
        "X_train /= 255 ; X_test /= 255\n",
        "\n",
        "# Convert labels to one-hot vectors\n",
        "from keras.utils import np_utils\n",
        "Y_train = np_utils.to_categorical(y_train)\n",
        "Y_test = np_utils.to_categorical(y_test)"
      ]
    },
    {
      "cell_type": "markdown",
      "source": [
        "# Preprocess (House Prices)"
      ],
      "metadata": {
        "id": "XTF11EeKQtgr"
      },
      "id": "XTF11EeKQtgr"
    },
    {
      "cell_type": "code",
      "source": [
        "# Finding the number of NaN elements in each column\n",
        "dataset.isna().sum()\n",
        "\n",
        "# Correlation matrix of the data (assuming each column as a feature)\n",
        "corr_matrix = dataset.corr()\n",
        "\n",
        "# Which feature has the most correlation with price?\n",
        "max_price_corr = corr_matrix[\"price\"].drop(index=[\"price\"]) # Correlations of price with all features except the price itself\n",
        "max_corr_feature = max_price_corr.idxmax() ; max_corr_value = max_price_corr.max() # The index and the value of the feature with maximum correlation (with price)\n",
        "print('The \"' + max_corr_feature + '\" has maximum correlation with price, the correlation value is: ' + str(max_corr_value))\n",
        "\n",
        "# Histogram of one feature and regression between two features\n",
        "import matplotlib.pyplot as plt\n",
        "import seaborn as sns\n",
        "plt.figure(); sns.displot(data=dataset, x=\"price\")\n",
        "plt.figure(); sns.regplot(data=dataset, x=max_corr_feature, y='price')\n",
        "\n",
        "# Dividing \"date\" column into month and year, adding them to features separately, and dropping \"date\" feature\n",
        "!date = pd.to_datetime(dataset['date'])\n",
        "!dataset['year'] = date.dt.year ; dataset['month'] = date.dt.month\n",
        "!dataset = dataset.drop(columns=['date'])\n",
        "\n",
        "# Dividing data into train (80%) and test (20%)\n",
        "from sklearn.model_selection import train_test_split\n",
        "train,test = train_test_split(dataset, test_size=0.2,shuffle = True, random_state = 0)\n",
        "\n",
        "# Scaling train data and applying the transform to test set too (test set should not be involved in scaling which would be data leakage)\n",
        "from sklearn.preprocessing import MinMaxScaler\n",
        "scaler = MinMaxScaler().fit(train) ; train_sc = scaler.transform(train) # It gives output as an array (with no titles)\n",
        "col_names = train.columns ; train_sc = pd.DataFrame(train_sc, columns = col_names) # Extracting feature names and forming the dataframe again\n",
        "test_sc = scaler.transform(test) ; test_sc = pd.DataFrame(test_sc, columns = col_names) # Just applying the transform to the test set and forming the dataframe"
      ],
      "metadata": {
        "colab": {
          "base_uri": "https://localhost:8080/",
          "height": 782
        },
        "id": "n3-PWMX5Qs7Y",
        "outputId": "95c7ee6d-69c0-4c61-a344-4f6e5cced57d"
      },
      "id": "n3-PWMX5Qs7Y",
      "execution_count": null,
      "outputs": [
        {
          "output_type": "stream",
          "name": "stdout",
          "text": [
            "The \"sqft_living\" has maximum correlation with price, the correlation value is: 0.7020350546118005\n",
            "/bin/bash: -c: line 0: syntax error near unexpected token `('\n",
            "/bin/bash: -c: line 0: `date = pd.to_datetime(dataset['date'])'\n",
            "/bin/bash: dataset[year]: command not found\n",
            "/bin/bash: dataset[month]: command not found\n",
            "/bin/bash: -c: line 0: syntax error near unexpected token `('\n",
            "/bin/bash: -c: line 0: `dataset = dataset.drop(columns=['date'])'\n"
          ]
        },
        {
          "output_type": "display_data",
          "data": {
            "text/plain": [
              "<Figure size 432x288 with 0 Axes>"
            ]
          },
          "metadata": {}
        },
        {
          "output_type": "display_data",
          "data": {
            "text/plain": [
              "<Figure size 360x360 with 1 Axes>"
            ],
            "image/png": "[encoded data removed]"
          },
          "metadata": {
            "needs_background": "light"
          }
        },
        {
          "output_type": "display_data",
          "data": {
            "text/plain": [
              "<Figure size 432x288 with 1 Axes>"
            ],
            "image/png": "[encoded data removed]"
          },
          "metadata": {
            "needs_background": "light"
          }
        }
      ]
    },
    {
      "cell_type": "markdown",
      "source": [
        "# Preprocess (Cfar10 Dataset)"
      ],
      "metadata": {
        "id": "RWmvRWNgASZE"
      },
      "id": "RWmvRWNgASZE"
    },
    {
      "cell_type": "code",
      "source": [
        "from skimage.transform import resize\n",
        "from sklearn.preprocessing import MultiLabelBinarizer\n",
        "\n",
        "one_hot = MultiLabelBinarizer() ; y_train = one_hot.fit_transform(y_train)\n",
        "one_hot = MultiLabelBinarizer() ; y_test = one_hot.fit_transform(y_test)\n",
        "\n",
        "imgs_16_16 = []\n",
        "imgs_8_8 = []\n",
        "for i in range(x_train.shape[0]):\n",
        "  imgs_16_16.append(resize(x_train[i], (16, 16)))\n",
        "  imgs_8_8.append(resize(x_train[i], (8, 8)))\n",
        "x_train_32_32 = x_train\n",
        "x_train_16_16 = np.array(imgs_16_16)\n",
        "x_train_8_8 = np.array(imgs_8_8)\n",
        "\n",
        "rand_index = []\n",
        "for i in range(10):\n",
        "  rand = np.random.randint(x_train.shape[0])\n",
        "  rand_index.append(rand)\n",
        "\n",
        "def show_img(index):\n",
        "  plt.figure() ; plt.subplot(131) ; plt.title(\"32*32\") ; plt.imshow(x_train_32_32[index])\n",
        "  plt.subplot(132) ; plt.title(\"16*16\") ; plt.imshow(x_train_16_16[index]) ; plt.subplot(133)\n",
        "  plt.title(\"8*8\") ; plt.imshow(x_train_8_8[index])\n",
        "\n",
        "imgs_16_16=[] ; imgs_8_8=[]\n",
        "for i in range(x_train.shape[0]):\n",
        "  imgs_16_16.append(resize(x_train_16_16[i], (32, 32)))\n",
        "  imgs_8_8.append(resize(x_train_8_8[i], (32, 32)))\n",
        "x_train_16 = np.array(imgs_16_16)\n",
        "x_train_8 = np.array(imgs_8_8)\n",
        "\n",
        "for i in rand_index:\n",
        "  show_img(i)\n",
        "\n",
        "rand_index_test = []\n",
        "for i in range(10):\n",
        "  rand = np.random.randint(x_test.shape[0])\n",
        "  rand_index_test.append(rand)"
      ],
      "metadata": {
        "id": "9OMl4TBJAXVp"
      },
      "id": "9OMl4TBJAXVp",
      "execution_count": null,
      "outputs": []
    },
    {
      "cell_type": "markdown",
      "source": [
        "# Preprocess (Kaggle Covid19 Dataset)"
      ],
      "metadata": {
        "id": "Zq3I7tEM4Am_"
      },
      "id": "Zq3I7tEM4Am_"
    },
    {
      "cell_type": "code",
      "source": [
        "import numpy as np\n",
        "import pandas as pd\n",
        "import matplotlib.pyplot as plt\n",
        "import tensorflow as tf\n",
        "import seaborn as sns\n",
        "import cv2\n",
        "import os\n",
        "from tqdm import tqdm\n",
        "from sklearn.metrics import confusion_matrix\n",
        "from sklearn.model_selection import train_test_split\n",
        "from keras.utils.np_utils import to_categorical\n",
        "from keras.preprocessing.image import ImageDataGenerator"
      ],
      "metadata": {
        "id": "A_8HeJTr48PM"
      },
      "id": "A_8HeJTr48PM",
      "execution_count": null,
      "outputs": []
    },
    {
      "cell_type": "code",
      "source": [
        "disease_types=['COVID', 'Non-COVID']\n",
        "data_dir = './dataset/COVID-19 Dataset/CT/'\n",
        "train_dir = os.path.join(data_dir)\n",
        "\n",
        "train_data = []\n",
        "for defects_id, sp in enumerate(disease_types):\n",
        "    for file in os.listdir(os.path.join(train_dir, sp)):\n",
        "        train_data.append(['{}/{}'.format(sp, file), defects_id, sp])\n",
        "\n",
        "train = pd.DataFrame(train_data, columns=['File', 'DiseaseID','Disease Type'])\n",
        "SEED = 32\n",
        "train = train.sample(frac=1, random_state=SEED) \n",
        "train.index = np.arange(len(train))     \n",
        "train.head() ; train.info()\n",
        "\n",
        "non_cov_num = train[train[\"DiseaseID\"]==1].shape[0]\n",
        "cov_num = train[train[\"DiseaseID\"]==0].shape[0]\n",
        "print(\"number of covid: \" + str(cov_num))\n",
        "print(\"number of non-covid: \" + str(non_cov_num))\n",
        "print(\"total number of images: \" + str(train.shape[0]))\n",
        "\n",
        "import cv2\n",
        "plt.imshow(cv2.imread(os.path.join(data_dir, train['File'][0])))"
      ],
      "metadata": {
        "id": "YZKrgm8d4sV5"
      },
      "id": "YZKrgm8d4sV5",
      "execution_count": null,
      "outputs": []
    },
    {
      "cell_type": "markdown",
      "source": [
        "resize to 64*64 and normalization"
      ],
      "metadata": {
        "id": "RTXl04JzZmNu"
      },
      "id": "RTXl04JzZmNu"
    },
    {
      "cell_type": "code",
      "execution_count": null,
      "metadata": {
        "id": "-N4a8o4wMycA"
      },
      "outputs": [],
      "source": [
        "X_train = np.zeros((train.shape[0], 64, 64, 3))\n",
        "for i, file in tqdm(enumerate(train['File'].values)):\n",
        "    image = cv2.imread(os.path.join(data_dir, file))\n",
        "    if image is not None:\n",
        "        image64 =  cv2.resize(image.copy(), (64, 64), interpolation=cv2.INTER_AREA)\n",
        "        X_train[i] = image64 / 255\n",
        "print('Train Shape: {}'.format(X_Train.shape))"
      ],
      "id": "-N4a8o4wMycA"
    },
    {
      "cell_type": "markdown",
      "source": [
        "categorical labeling"
      ],
      "metadata": {
        "id": "yE-s9shjZ25Y"
      },
      "id": "yE-s9shjZ25Y"
    },
    {
      "cell_type": "code",
      "execution_count": null,
      "metadata": {
        "id": "BRxXiSEnM0ER"
      },
      "outputs": [],
      "source": [
        "Y_train = train['DiseaseID'].values\n",
        "Y_train = to_categorical(Y_train, num_classes=2)"
      ],
      "id": "BRxXiSEnM0ER"
    },
    {
      "cell_type": "markdown",
      "source": [
        "tarin-test split"
      ],
      "metadata": {
        "id": "w-L7Ltcubf1P"
      },
      "id": "w-L7Ltcubf1P"
    },
    {
      "cell_type": "code",
      "execution_count": null,
      "metadata": {
        "id": "mqjgeyGJM23z"
      },
      "outputs": [],
      "source": [
        "X_train, X_val, Y_train, Y_val = train_test_split(X_Train, Y_train, test_size=0.2)"
      ],
      "id": "mqjgeyGJM23z"
    },
    {
      "cell_type": "markdown",
      "source": [
        "Data Augmentation"
      ],
      "metadata": {
        "id": "lTgEN2M_dS2F"
      },
      "id": "lTgEN2M_dS2F"
    },
    {
      "cell_type": "code",
      "source": [
        "dataAug = ImageDataGenerator(rotation_range=360, width_shift_range=0.2, height_shift_range=0.2, zoom_range=0.2, horizontal_flip=True, vertical_flip=True)\n",
        "dataAug.fit(X_train)"
      ],
      "metadata": {
        "id": "TtVU7WdudI3c"
      },
      "execution_count": null,
      "outputs": [],
      "id": "TtVU7WdudI3c"
    }
  ],
  "metadata": {
    "kernelspec": {
      "display_name": "Python 3",
      "language": "python",
      "name": "python3"
    },
    "language_info": {
      "codemirror_mode": {
        "name": "ipython",
        "version": 3
      },
      "file_extension": ".py",
      "mimetype": "text/x-python",
      "name": "python",
      "nbconvert_exporter": "python",
      "pygments_lexer": "ipython3",
      "version": "3.8.3"
    },
    "colab": {
      "provenance": [],
      "collapsed_sections": [
        "fnuU84Wd2Hu0",
        "employed-activation",
        "WZczkc9Z7juu",
        "urban-discovery",
        "XTF11EeKQtgr",
        "RWmvRWNgASZE",
        "Zq3I7tEM4Am_"
      ]
    },
    "accelerator": "GPU"
  },
  "nbformat": 4,
  "nbformat_minor": 5
}