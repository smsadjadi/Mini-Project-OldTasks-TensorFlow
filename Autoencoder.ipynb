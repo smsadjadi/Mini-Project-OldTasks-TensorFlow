{
  "nbformat": 4,
  "nbformat_minor": 0,
  "metadata": {
    "colab": {
      "provenance": []
    },
    "kernelspec": {
      "name": "python3",
      "display_name": "Python 3"
    },
    "language_info": {
      "name": "python"
    }
  },
  "cells": [
    {
      "cell_type": "markdown",
      "source": [
        "Auto Encoder"
      ],
      "metadata": {
        "id": "s-Baa4YIxPQz"
      }
    },
    {
      "cell_type": "code",
      "source": [
        "# Training Parameters\n",
        "learning_rate = 0.01 ; num_steps = 30000 ; batch_size = 256 ; display_step = 1000 ; examples_to_show = 10\n",
        "\n",
        "# Network Parameters\n",
        "num_hidden_1 = 256 ; num_hidden_2 = 128 ; num_input = 784 # MNIST data input (img shape: 28*28)\n",
        "\n",
        "# tf Graph input (only pictures)\n",
        "X = tf.placeholder(\"float\", [None, num_input])\n",
        "\n",
        "weights = {\n",
        "    'encoder_h1': tf.Variable(tf.random_normal([num_input, num_hidden_1])),\n",
        "    'encoder_h2': tf.Variable(tf.random_normal([num_hidden_1, num_hidden_2])),\n",
        "    'decoder_h1': tf.Variable(tf.random_normal([num_hidden_2, num_hidden_1])),\n",
        "    'decoder_h2': tf.Variable(tf.random_normal([num_hidden_1, num_input])),\n",
        "}\n",
        "biases = {\n",
        "    'encoder_b1': tf.Variable(tf.random_normal([num_hidden_1])),\n",
        "    'encoder_b2': tf.Variable(tf.random_normal([num_hidden_2])),\n",
        "    'decoder_b1': tf.Variable(tf.random_normal([num_hidden_1])),\n",
        "    'decoder_b2': tf.Variable(tf.random_normal([num_input])),\n",
        "}\n",
        "\n",
        "\n",
        "def encoder(x):\n",
        "    layer_1 = tf.nn.sigmoid(tf.add(tf.matmul(x, weights['encoder_h1']), biases['encoder_b1']))\n",
        "    layer_2 = tf.nn.sigmoid(tf.add(tf.matmul(layer_1, weights['encoder_h2']), biases['encoder_b2']))\n",
        "    return layer_2\n",
        "\n",
        "def decoder(x):\n",
        "    layer_1 = tf.nn.sigmoid(tf.add(tf.matmul(x, weights['decoder_h1']), biases['decoder_b1']))\n",
        "    layer_2 = tf.nn.sigmoid(tf.add(tf.matmul(layer_1, weights['decoder_h2']), biases['decoder_b2']))\n",
        "    return layer_2\n",
        "\n",
        "encoder_op = encoder(X) ; decoder_op = decoder(encoder_op) ; y_pred = decoder_op ; y_true = X\n",
        "optimizer = tf.train.RMSPropOptimizer(learning_rate).minimize(loss)\n",
        "loss = tf.reduce_mean(tf.pow(y_true - y_pred, 2))\n",
        "\n",
        "\n",
        "init = tf.global_variables_initializer()\n",
        "with tf.Session() as sess:\n",
        "    sess.run(init)\n",
        "    # Training\n",
        "    for i in range(1, num_steps+1):\n",
        "        # Prepare Data\n",
        "        # Get the next batch of MNIST data (only images are needed, not labels)\n",
        "        batch_x, _ = mnist.train.next_batch(batch_size)\n",
        "        # Run optimization op (backprop) and cost op (to get loss value)\n",
        "        _, l = sess.run([optimizer, loss], feed_dict={X: batch_x})\n",
        "        # Display logs per step\n",
        "        if i % display_step == 0 or i == 1:\n",
        "            print('Step %i: Minibatch Loss: %f' % (i, l))\n",
        "    # Testing: encode and decode images from test set and visualize their reconstruction.\n",
        "    n = 4\n",
        "    canvas_orig = np.empty((28 * n, 28 * n))\n",
        "    canvas_recon = np.empty((28 * n, 28 * n))\n",
        "    for i in range(n):\n",
        "        # MNIST test set\n",
        "        batch_x, _ = mnist.test.next_batch(n)\n",
        "        # Encode and decode the digit image\n",
        "        g = sess.run(decoder_op, feed_dict={X: batch_x})\n",
        "        # Display original images\n",
        "        for j in range(n):\n",
        "            # Draw the original digits\n",
        "            canvas_orig[i * 28:(i + 1) * 28, j * 28:(j + 1) * 28] = \\\n",
        "                batch_x[j].reshape([28, 28])\n",
        "        # Display reconstructed images\n",
        "        for j in range(n):\n",
        "            # Draw the reconstructed digits\n",
        "            canvas_recon[i * 28:(i + 1) * 28, j * 28:(j + 1) * 28] = \\\n",
        "                g[j].reshape([28, 28])\n",
        "    print(\"Original Images\")\n",
        "    plt.figure(figsize=(n, n))\n",
        "    plt.imshow(canvas_orig, origin=\"upper\", cmap=\"gray\")\n",
        "    plt.show()\n",
        "    print(\"Reconstructed Images\")\n",
        "    plt.figure(figsize=(n, n))\n",
        "    plt.imshow(canvas_recon, origin=\"upper\", cmap=\"gray\")\n",
        "    plt.show()"
      ],
      "metadata": {
        "id": "AzlWspq7s1U4"
      },
      "execution_count": null,
      "outputs": []
    }
  ]
}